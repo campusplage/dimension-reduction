{
  "nbformat": 4,
  "nbformat_minor": 0,
  "metadata": {
    "colab": {
      "name": " \t2. Utilisation ACP",
      "provenance": [],
      "include_colab_link": true
    },
    "kernelspec": {
      "name": "python3",
      "display_name": "Python 3"
    }
  },
  "cells": [
    {
      "cell_type": "markdown",
      "metadata": {
        "id": "view-in-github",
        "colab_type": "text"
      },
      "source": [
        "<a href=\"https://colab.research.google.com/github/campusplage/multidimensional-data/blob/master/colabs/2_Utilisation_ACP.ipynb\" target=\"_parent\"><img src=\"https://colab.research.google.com/assets/colab-badge.svg\" alt=\"Open In Colab\"/></a>"
      ]
    },
    {
      "cell_type": "markdown",
      "metadata": {
        "id": "bHnNe4JxFBNH",
        "colab_type": "text"
      },
      "source": [
        "# MIASHS cours de master sur l'analyse de données multidimensionnelle\n",
        "## TP2: Utiliser l'analyse en composantes principales\n",
        "---\n",
        "**Dans ce TP, vous allez apprendre à:**\n",
        "* Utiliser l'implémentation de l'ACP de `scikit-learn`\n",
        "* Exploiter et visualiser les résultats avec `seaborn`\n",
        "---\n"
      ]
    },
    {
      "cell_type": "markdown",
      "metadata": {
        "id": "-ZP3M6XrhuWa",
        "colab_type": "text"
      },
      "source": [
        "## 1. Introduction\n",
        "\n",
        "### a. Objectifs de ce TP\n",
        "\n",
        "Dans ce TP, on va mettre en pratique le cours sur l'analyse en composantes principales (ACP), qui est un moyen très classique pour essayer d'explorer des données multidimensionnelles pour en tirer du sens.\n",
        "\n",
        "### c. Remerciements\n",
        "\n",
        "Les jeux de données de ce TP introductif sur l'ACP proviennent des resources mises en place par [François Husson](https://husson.github.io/).\n",
        "Vous êtes chaleureusement invités à consulter [son site](https://husson.github.io/MOOC.html) qui vous permettra de compléter le cours et d'avoir un autre angle d'approche.\n",
        "\n",
        "La principale différence par rapport aux support mis en place par Husson est qu'on utilisera ici le langage Python plutôt que R."
      ]
    },
    {
      "cell_type": "code",
      "metadata": {
        "id": "cAv6IauCFABc",
        "colab_type": "code",
        "colab": {}
      },
      "source": [
        "eaue"
      ],
      "execution_count": 0,
      "outputs": []
    }
  ]
}